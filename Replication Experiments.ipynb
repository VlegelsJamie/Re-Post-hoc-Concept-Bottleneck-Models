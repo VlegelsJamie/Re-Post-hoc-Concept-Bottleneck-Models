{
 "cells": [
  {
   "cell_type": "code",
   "execution_count": 1,
   "id": "430dbe06-675b-463d-8a1d-91adb4f37d63",
   "metadata": {},
   "outputs": [
    {
     "name": "stdout",
     "output_type": "stream",
     "text": [
      "C:\\Users\\jamie\\Documents\\GitHub\\FACT-Project\\Original Code\n"
     ]
    }
   ],
   "source": [
    "%cd Original Code/"
   ]
  },
  {
   "cell_type": "code",
   "execution_count": 2,
   "id": "693d3b7c-da50-47b7-89a4-7e02ef16b91e",
   "metadata": {},
   "outputs": [
    {
     "name": "stdout",
     "output_type": "stream",
     "text": [
      "Python 3.11.7\n"
     ]
    }
   ],
   "source": [
    "!python --version"
   ]
  },
  {
   "cell_type": "markdown",
   "id": "4198348d-41b1-4351-928d-e99dc970e3b5",
   "metadata": {},
   "source": [
    "# Experiment 1: PCBMs Using Concept Database"
   ]
  },
  {
   "cell_type": "markdown",
   "id": "4e7055ea-f02d-4d1a-8fc1-e850ce2fdacf",
   "metadata": {},
   "source": [
    "## Learning concepts with a concept dataset"
   ]
  },
  {
   "cell_type": "code",
   "execution_count": 10,
   "id": "2686a587-a9e9-40d9-b5ab-c352c890b766",
   "metadata": {},
   "outputs": [
    {
     "name": "stdout",
     "output_type": "stream",
     "text": [
      "^C\n"
     ]
    }
   ],
   "source": [
    "OUTPUT_DIR_CONCEPTS = \"/conceptbanks/\"\n",
    "\n",
    "# Learning Broden Concepts with CLIP-ResNet50 Backbone\n",
    "!python learn_concepts_dataset.py --dataset-name=\"broden\" --backbone-name=\"clip:RN50\" --C 0.1 --n-samples=50 --out-dir=$OUTPUT_DIR_CONCEPTS --device=\"cpu\"\n",
    "\n",
    "# Learning CUB Concepts with ResNet18 Backbone\n",
    "# !python3 learn_concepts_dataset.py --dataset-name=\"cub\" --backbone-name=\"resnet18_cub\" --C 0.1 --n-samples=50 --out-dir=$OUTPUT_DIR_CONCEPTS --device=\"cpu\"\n",
    "\n",
    "# Learning Derm7pt Concepts with Inception Backbone\n",
    "# !python3 learn_concepts_dataset.py --dataset-name=\"derm7pt\" --backbone-name=\"ham10000_inception\" --C 0.1 --n-samples=50 --out-dir=$OUTPUT_DIR_CONCEPTS --device=\"cpu\""
   ]
  },
  {
   "cell_type": "markdown",
   "id": "23e037bd-e6b2-443b-85d4-f888b01e9765",
   "metadata": {},
   "source": [
    "## Training PCBM"
   ]
  },
  {
   "cell_type": "code",
   "execution_count": null,
   "id": "af8eba5d-827b-4551-9d91-50d0afd322ed",
   "metadata": {},
   "outputs": [],
   "source": [
    "OUTPUT_DIR_PCBM = \"/PCMBs/\"\n",
    "\n",
    "# Learning CIFAR10 PCBM with Broden Concepts\n",
    "!python train_pcbm.py --concept-bank=\"${OUTPUT_DIR_CONCEPTS}/.pkl\" --dataset=\"cifar10\" --backbone-name=\"clip:RN50\" --out-dir=$OUTPUT_DIR --lam=2.0\n",
    "\n",
    "# Learning CIFAR100 PCBM with Broden Concepts\n",
    "!python train_pcbm.py --concept-bank=\"${OUTPUT_DIR_CONCEPTS}/.pkl\" --dataset=\"cifar100\" --backbone-name=\"clip:RN50\" --out-dir=$OUTPUT_DIR --lam=2.0\n",
    "\n",
    "# Learning COCO-Stuff PCBM with Broden Concepts\n",
    "!python train_pcbm.py --concept-bank=\"${OUTPUT_DIR_CONCEPTS}/.pkl\" --dataset=\"\" --backbone-name=\"clip:RN50\" --out-dir=$OUTPUT_DIR --lam=0.001\n",
    "\n",
    "# Learning CUB PCBM with CUB Concepts\n",
    "!python train_pcbm.py --concept-bank=\"${OUTPUT_DIR_CONCEPTS}/cub_resnet18_cub_0.1_50.pkl\" --dataset=\"cub\" --backbone-name=\"resnet18_cub\" --out-dir=$OUTPUT_DIR --lam=0.01\n",
    "\n",
    "# Learning HAM10k PCBM with Derm7pt Concepts\n",
    "!python train_pcbm.py --concept-bank=\"${OUTPUT_DIR_CONCEPTS}/.pkl\" --dataset=\"ham10000\" --backbone-name=\"ham10000_inception\" --out-dir=$OUTPUT_DIR --lam=2.0\n",
    "\n",
    "# Learning SIIM-ISIC PCBM with Derm7pt Concepts\n",
    "!python train_pcbm.py --concept-bank=\"${OUTPUT_DIR_CONCEPTS}/.pkl\" --dataset=\"\" --backbone-name=\"ham10000_inception\" --out-dir=$OUTPUT_DIR --lam=0.001"
   ]
  },
  {
   "cell_type": "markdown",
   "id": "7af6cb0a-1892-421d-9909-f2f96dec43b1",
   "metadata": {},
   "source": [
    "## Training PCBM-h"
   ]
  },
  {
   "cell_type": "code",
   "execution_count": null,
   "id": "4a168060-ab40-4835-a04f-5e27f366e300",
   "metadata": {},
   "outputs": [],
   "source": [
    "pcbm_path=\"/path/to/pcbm_cub__resnet18_cub__cub_resnet18_cub_0__lam:0.0002__alpha:0.99__seed:42.ckpt\"\n",
    "python3 train_pcbm_h.py --concept-bank=\"${OUTPUT_DIR}/cub_resnet18_cub_0.1_100.pkl\" --pcbm-path=$pcbm_path --out-dir=$OUTPUT_DIR --dataset=\"cub\""
   ]
  },
  {
   "cell_type": "markdown",
   "id": "feb29abf-9543-4e8e-8b7f-b973aa035698",
   "metadata": {},
   "source": [
    "# Experiment 2: PCBMs Using CLIP concepts"
   ]
  },
  {
   "cell_type": "markdown",
   "id": "e97fd5c6-94d9-4df8-9b8b-4493ebf973ea",
   "metadata": {},
   "source": [
    "## Learning concepts via prompting with multimodal models"
   ]
  },
  {
   "cell_type": "markdown",
   "id": "e620e15f-aac1-4ec9-9b20-5f404d37bfce",
   "metadata": {},
   "source": [
    "## Training PCBM"
   ]
  },
  {
   "cell_type": "markdown",
   "id": "cbadd2d3-e780-4407-b2a8-4c5f74f7202f",
   "metadata": {},
   "source": [
    "## Training PCBM-h"
   ]
  },
  {
   "cell_type": "markdown",
   "id": "fac307f4-cf39-4445-9977-075501bea2e2",
   "metadata": {},
   "source": [
    "# Experiment 3: Explanations in PCBMs"
   ]
  },
  {
   "cell_type": "code",
   "execution_count": null,
   "id": "71ad7404-7bbc-430c-9087-e38bc0c99be3",
   "metadata": {},
   "outputs": [],
   "source": []
  }
 ],
 "metadata": {
  "kernelspec": {
   "display_name": "Python 3 (ipykernel)",
   "language": "python",
   "name": "python3"
  },
  "language_info": {
   "codemirror_mode": {
    "name": "ipython",
    "version": 3
   },
   "file_extension": ".py",
   "mimetype": "text/x-python",
   "name": "python",
   "nbconvert_exporter": "python",
   "pygments_lexer": "ipython3",
   "version": "3.11.7"
  }
 },
 "nbformat": 4,
 "nbformat_minor": 5
}
